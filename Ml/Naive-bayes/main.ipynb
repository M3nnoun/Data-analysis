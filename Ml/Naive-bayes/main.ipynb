{
 "cells": [
  {
   "cell_type": "code",
   "execution_count": 394,
   "id": "09a97796-5256-40aa-ac26-58d318b2c412",
   "metadata": {},
   "outputs": [],
   "source": [
    "import pandas as pd\n",
    "import numpy as np\n",
    "import matplotlib.pyplot as plt"
   ]
  },
  {
   "cell_type": "code",
   "execution_count": 279,
   "id": "cce89bf9-08b4-44f0-a7e1-25534aa65eb0",
   "metadata": {},
   "outputs": [],
   "source": [
    "# 'spam.csv' is the dataset file\n",
    "data = pd.read_csv('spam.csv')"
   ]
  },
  {
   "cell_type": "code",
   "execution_count": 350,
   "id": "54be602e-d326-4f29-a17e-0f3d8bf451a8",
   "metadata": {},
   "outputs": [
    {
     "data": {
      "text/html": [
       "<div>\n",
       "<style scoped>\n",
       "    .dataframe tbody tr th:only-of-type {\n",
       "        vertical-align: middle;\n",
       "    }\n",
       "\n",
       "    .dataframe tbody tr th {\n",
       "        vertical-align: top;\n",
       "    }\n",
       "\n",
       "    .dataframe thead th {\n",
       "        text-align: right;\n",
       "    }\n",
       "</style>\n",
       "<table border=\"1\" class=\"dataframe\">\n",
       "  <thead>\n",
       "    <tr style=\"text-align: right;\">\n",
       "      <th></th>\n",
       "      <th>Category</th>\n",
       "      <th>Message</th>\n",
       "    </tr>\n",
       "  </thead>\n",
       "  <tbody>\n",
       "    <tr>\n",
       "      <th>0</th>\n",
       "      <td>ham</td>\n",
       "      <td>Go until jurong point, crazy.. Available only ...</td>\n",
       "    </tr>\n",
       "    <tr>\n",
       "      <th>1</th>\n",
       "      <td>ham</td>\n",
       "      <td>Ok lar... Joking wif u oni...</td>\n",
       "    </tr>\n",
       "    <tr>\n",
       "      <th>2</th>\n",
       "      <td>spam</td>\n",
       "      <td>Free entry in 2 a wkly comp to win FA Cup fina...</td>\n",
       "    </tr>\n",
       "    <tr>\n",
       "      <th>3</th>\n",
       "      <td>ham</td>\n",
       "      <td>U dun say so early hor... U c already then say...</td>\n",
       "    </tr>\n",
       "    <tr>\n",
       "      <th>4</th>\n",
       "      <td>ham</td>\n",
       "      <td>Nah I don't think he goes to usf, he lives aro...</td>\n",
       "    </tr>\n",
       "  </tbody>\n",
       "</table>\n",
       "</div>"
      ],
      "text/plain": [
       "  Category                                            Message\n",
       "0      ham  Go until jurong point, crazy.. Available only ...\n",
       "1      ham                      Ok lar... Joking wif u oni...\n",
       "2     spam  Free entry in 2 a wkly comp to win FA Cup fina...\n",
       "3      ham  U dun say so early hor... U c already then say...\n",
       "4      ham  Nah I don't think he goes to usf, he lives aro..."
      ]
     },
     "execution_count": 350,
     "metadata": {},
     "output_type": "execute_result"
    }
   ],
   "source": [
    "# Step 2: Explore the data (initial preview)\n",
    "# This will show the first few rows of the dataset to understand its structure\n",
    "data.head()\n"
   ]
  },
  {
   "cell_type": "code",
   "execution_count": 354,
   "id": "f3d34f3e-134e-4c0d-a9c9-b232f539efaf",
   "metadata": {},
   "outputs": [
    {
     "data": {
      "text/plain": [
       "Category\n",
       "ham     4825\n",
       "spam     747\n",
       "Name: count, dtype: int64"
      ]
     },
     "execution_count": 354,
     "metadata": {},
     "output_type": "execute_result"
    }
   ],
   "source": [
    "# This counts how many messages belong to each category (e.g., spam or ham)\n",
    "data['Category'].value_counts()"
   ]
  },
  {
   "cell_type": "code",
   "execution_count": 360,
   "id": "c8bfa3fb-9468-4077-a649-3b8bbc7312c1",
   "metadata": {},
   "outputs": [
    {
     "data": {
      "image/png": "[encoded data removed]",
      "text/plain": [
       "<Figure size 640x480 with 1 Axes>"
      ]
     },
     "metadata": {},
     "output_type": "display_data"
    }
   ],
   "source": [
    "data['Category'].value_counts().plot(kind='bar', color=['skyblue', 'lightcoral'])\n",
    "plt.title('Category Distribution')\n",
    "plt.xlabel('Category')\n",
    "plt.ylabel('Count')\n",
    "plt.show()"
   ]
  },
  {
   "cell_type": "code",
   "execution_count": 362,
   "id": "d5e74d6f-5268-4d70-adc0-d102de06ab98",
   "metadata": {},
   "outputs": [
    {
     "name": "stdout",
     "output_type": "stream",
     "text": [
      "Train size: 4457, Test size: 1115\n"
     ]
    }
   ],
   "source": [
    "# 'random_state' ensures reproducibility (same shuffle every time you run the code)\n",
    "\n",
    "data_shuffled = data.sample(frac=1, random_state=42).reset_index(drop=True)\n",
    "\n",
    "# Define split percentage\n",
    "train_frac = 0.8    # 80% for training\n",
    "test_frac = 0.2     # 20% for testing\n",
    "\n",
    "# Calculate split index\n",
    "train_end = int(train_frac * len(data_shuffled))\n",
    "\n",
    "# Perform the actual split\n",
    "train_data = data_shuffled.iloc[:train_end]\n",
    "test_data = data_shuffled.iloc[train_end:]\n",
    "\n",
    "# Confirm sizes (optional - helpful for debugging)\n",
    "print(f\"Train size: {len(train_data)}, Test size: {len(test_data)}\")"
   ]
  },
  {
   "cell_type": "code",
   "execution_count": 364,
   "id": "7244c7cc-84ff-4369-b7cb-786e12c40d77",
   "metadata": {},
   "outputs": [
    {
     "data": {
      "text/plain": [
       "Index(['Category', 'Message'], dtype='object')"
      ]
     },
     "execution_count": 364,
     "metadata": {},
     "output_type": "execute_result"
    }
   ],
   "source": [
    "train_data.columns"
   ]
  },
  {
   "cell_type": "code",
   "execution_count": 366,
   "id": "ba267900-2274-4494-bae2-dfaf0ac32128",
   "metadata": {},
   "outputs": [
    {
     "data": {
      "text/plain": [
       "Category\n",
       "ham     3864\n",
       "spam     593\n",
       "Name: count, dtype: int64"
      ]
     },
     "execution_count": 366,
     "metadata": {},
     "output_type": "execute_result"
    }
   ],
   "source": [
    "# This will count how many messages belong to each category (e.g., spam or ham) in the training set\n",
    "train_data['Category'].value_counts()"
   ]
  },
  {
   "cell_type": "code",
   "execution_count": 368,
   "id": "5b8ec64c-82ea-42e6-b374-2bfef20ce14e",
   "metadata": {},
   "outputs": [
    {
     "data": {
      "image/png": "[encoded data removed]",
      "text/plain": [
       "<Figure size 640x480 with 1 Axes>"
      ]
     },
     "metadata": {},
     "output_type": "display_data"
    }
   ],
   "source": [
    "train_data['Category'].value_counts().plot(kind='bar', color=['skyblue', 'lightcoral'])\n",
    "plt.title('Category Distribution')\n",
    "plt.xlabel('Category')\n",
    "plt.ylabel('Count')\n",
    "plt.show()"
   ]
  },
  {
   "cell_type": "code",
   "execution_count": 370,
   "id": "91335aa4-1507-4eb8-ab58-8abe0dd537fe",
   "metadata": {},
   "outputs": [],
   "source": [
    "# This will help in processing and calculating word frequencies for each category (spam or ham)\n",
    "\n",
    "def concat_naive_messages(message_col):\n",
    "    \"\"\"\n",
    "    This function takes a column of messages (strings) and concatenates all the messages into a single string.\n",
    "    It adds a space between each message for easier processing.\n",
    "    \n",
    "    Args:\n",
    "    message_col (pd.Series): A pandas Series containing the messages.\n",
    "    \n",
    "    Returns:\n",
    "    str: A single concatenated string of all messages.\n",
    "    \"\"\"\n",
    "    output = ''\n",
    "    for row in message_col:\n",
    "        output += row + ' '  # Concatenate each message with a space separating them\n",
    "    return output"
   ]
  },
  {
   "cell_type": "code",
   "execution_count": 372,
   "id": "8811a8b6-1bcd-4086-bed0-31273a922d90",
   "metadata": {},
   "outputs": [],
   "source": [
    "# Step 7: Create a function to calculate the appearance probability of each word in the dataset\n",
    "# This function computes the probability of each word in the message, using Laplace smoothing.\n",
    "\n",
    "def calculate_prob(messages, number_words, smoothing=1):\n",
    "    \"\"\"\n",
    "    This function calculates the probability of each word in the provided messages.\n",
    "    The probability is calculated as the count of the word, smoothed by adding 'smoothing' to each word count.\n",
    "    \n",
    "    Args:\n",
    "    messages (str): A single concatenated string of all messages.\n",
    "    number_words (int): The total number of words in the dataset (used for the denominator).\n",
    "    smoothing (int, optional): The Laplace smoothing parameter, default is 1.\n",
    "    \n",
    "    Returns:\n",
    "    dict: A dictionary with words as keys and their corresponding probability as values.\n",
    "    \"\"\"\n",
    "    from collections import Counter\n",
    "    \n",
    "    # Count word occurrences\n",
    "    prob_per_word = dict(Counter(messages.split(' ')))\n",
    "    \n",
    "    # Total number of words in the messages\n",
    "    total_words = len(messages.split(' '))\n",
    "    \n",
    "    # Vocabulary size (the number of unique words in the messages)\n",
    "    vocabulary_size = len(prob_per_word)\n",
    "    \n",
    "    # Calculate the probability for each word using Laplace smoothing\n",
    "    for word, count in prob_per_word.items():\n",
    "        prob_per_word[word] = (count + smoothing) / (number_words + smoothing * vocabulary_size)\n",
    "        \n",
    "    return prob_per_word"
   ]
  },
  {
   "cell_type": "code",
   "execution_count": 374,
   "id": "bb851dda-c2a5-40ac-a2af-543eb8cbca5e",
   "metadata": {},
   "outputs": [],
   "source": [
    "# Using the `calculate_prob` function for both categories (spam and ham)\n",
    "# We concatenate all messages and calculate the probabilities for each word\n",
    "\n",
    "# Concatenate all spam messages and calculate the probability of each word\n",
    "spam_prob = calculate_prob(\n",
    "    concat_naive_messages(train_data[train_data['Category'] == 'spam']['Message']),\n",
    "    train_data[train_data['Category'] == 'spam']['Message']\n",
    "    .apply(lambda line: len(line.split(' '))).sum()\n",
    ")\n",
    "\n",
    "# Concatenate all ham messages and calculate the probability of each word\n",
    "ham_prob = calculate_prob(\n",
    "    concat_naive_messages(train_data[train_data['Category'] != 'spam']['Message']),\n",
    "    train_data[train_data['Category'] != 'spam']['Message']\n",
    "    .apply(lambda line: len(line.split(' '))).sum()\n",
    ")"
   ]
  },
  {
   "cell_type": "code",
   "execution_count": 320,
   "id": "df729c6f-8052-4389-aa55-d0bdf17fa42c",
   "metadata": {},
   "outputs": [],
   "source": [
    "helper_tag={\n",
    "    'ham':(train_data['Category'].value_counts()/train_data.shape[0]).iloc[0],\n",
    "    'spam':(train_data['Category'].value_counts()/train_data.shape[0]).iloc[1],\n",
    "}"
   ]
  },
  {
   "cell_type": "code",
   "execution_count": 376,
   "id": "6dee02c7-50a4-4623-bd04-2c90d6ce0e18",
   "metadata": {},
   "outputs": [],
   "source": [
    "\n",
    "def validate_mail(message, initial_guess, probs):\n",
    "    container = []\n",
    "    for word in message.split(' '):\n",
    "        container.append(probs[word] if word in probs else 1)\n",
    "    return np.prod(np.array(container))"
   ]
  },
  {
   "cell_type": "code",
   "execution_count": 378,
   "id": "e19acc76-7656-4f0f-8468-224a20717ce5",
   "metadata": {},
   "outputs": [],
   "source": [
    "def predict(X):\n",
    "    # Prior probabilities for ham and spam\n",
    "    helper_tag = {\n",
    "        'ham': (train_data['Category'].value_counts() / train_data.shape[0]).iloc[0],\n",
    "        'spam': (train_data['Category'].value_counts() / train_data.shape[0]).iloc[1],\n",
    "    }\n",
    "    prediction = []\n",
    "    for x_row in X:\n",
    "        # Calculate log-probabilities for both categories\n",
    "        is_ham = np.log(validate_mail(x_row, helper_tag['ham'], ham_prob))\n",
    "        is_spam = np.log(validate_mail(x_row, helper_tag['spam'], spam_prob))\n",
    "        # Append prediction based on higher probability\n",
    "        prediction.append('spam' if is_spam > is_ham else 'ham')\n",
    "    return np.array(prediction)"
   ]
  },
  {
   "cell_type": "code",
   "execution_count": 382,
   "id": "365a3681-e0cc-4087-b22d-9ffc9177bf87",
   "metadata": {},
   "outputs": [
    {
     "name": "stdout",
     "output_type": "stream",
     "text": [
      "['spam' 'spam' 'spam' ... 'spam' 'spam' 'spam']\n"
     ]
    },
    {
     "name": "stderr",
     "output_type": "stream",
     "text": [
      "C:\\Users\\ThinkPad\\AppData\\Local\\Temp\\ipykernel_9920\\4275444764.py:10: RuntimeWarning: divide by zero encountered in log\n",
      "  is_ham = np.log(validate_mail(x_row, helper_tag['ham'], ham_prob))\n"
     ]
    }
   ],
   "source": [
    "# Predicting for the test data messages\n",
    "predictions = predict(test_data['Message'])\n",
    "\n",
    "# Showing the predictions\n",
    "print(predictions)"
   ]
  },
  {
   "cell_type": "code",
   "execution_count": 386,
   "id": "915721a8-7a6e-447a-ba5c-c8f2b0f452ac",
   "metadata": {},
   "outputs": [],
   "source": [
    "# Using .loc to set the new column in the DataFrame\n",
    "test_data.loc[:, 'Category_predict'] = predictions"
   ]
  },
  {
   "cell_type": "code",
   "execution_count": 338,
   "id": "0199174d-5182-4e78-8335-13477006a808",
   "metadata": {},
   "outputs": [
    {
     "data": {
      "text/plain": [
       "Category_predict\n",
       "spam    837\n",
       "Name: count, dtype: int64"
      ]
     },
     "execution_count": 338,
     "metadata": {},
     "output_type": "execute_result"
    }
   ],
   "source": [
    "test_data['Category_predict'].value_counts()"
   ]
  },
  {
   "cell_type": "code",
   "execution_count": 390,
   "id": "142fe89b-449d-46a5-bfba-49de8e26d761",
   "metadata": {},
   "outputs": [],
   "source": [
    "def confusion_matrix_manual(actual, predicted):\n",
    "    # Initialize confusion matrix counts\n",
    "    TP = 0  # True Positives (Spam predicted as Spam)\n",
    "    FP = 0  # False Positives (Ham predicted as Spam)\n",
    "    TN = 0  # True Negatives (Ham predicted as Ham)\n",
    "    FN = 0  # False Negatives (Spam predicted as Ham)\n",
    "\n",
    "    # Compare actual and predicted categories\n",
    "    for a, p in zip(actual, predicted):\n",
    "        if a == 'spam' and p == 'spam':\n",
    "            TP += 1\n",
    "        elif a == 'ham' and p == 'spam':\n",
    "            FP += 1\n",
    "        elif a == 'ham' and p == 'ham':\n",
    "            TN += 1\n",
    "        elif a == 'spam' and p == 'ham':\n",
    "            FN += 1\n",
    "\n",
    "    # Create the confusion matrix\n",
    "    cm = np.array([[TN, FP], [FN, TP]])\n",
    "\n",
    "    # Calculate accuracy\n",
    "    accuracy = (TP + TN) / (TP + TN + FP + FN)\n",
    "    \n",
    "    return cm, accuracy"
   ]
  },
  {
   "cell_type": "code",
   "execution_count": 392,
   "id": "4dd7df57-e6af-44cd-ac95-e36925442702",
   "metadata": {},
   "outputs": [
    {
     "name": "stdout",
     "output_type": "stream",
     "text": [
      "Confusion Matrix:\n",
      "[[ 56 905]\n",
      " [118  36]]\n",
      "Accuracy: 8.25%\n"
     ]
    }
   ],
   "source": [
    "cm, accuracy = confusion_matrix_manual(test_data['Category'], test_data['Category_predict'])\n",
    "print(\"Confusion Matrix:\")\n",
    "print(cm)\n",
    "print(f\"Accuracy: {accuracy * 100:.2f}%\")"
   ]
  },
  {
   "cell_type": "code",
   "execution_count": null,
   "id": "4f140526-323e-4c8a-bfdd-f6aec07140bd",
   "metadata": {},
   "outputs": [],
   "source": []
  }
 ],
 "metadata": {
  "kernelspec": {
   "display_name": "Python 3 (ipykernel)",
   "language": "python",
   "name": "python3"
  },
  "language_info": {
   "codemirror_mode": {
    "name": "ipython",
    "version": 3
   },
   "file_extension": ".py",
   "mimetype": "text/x-python",
   "name": "python",
   "nbconvert_exporter": "python",
   "pygments_lexer": "ipython3",
   "version": "3.12.4"
  }
 },
 "nbformat": 4,
 "nbformat_minor": 5
}
