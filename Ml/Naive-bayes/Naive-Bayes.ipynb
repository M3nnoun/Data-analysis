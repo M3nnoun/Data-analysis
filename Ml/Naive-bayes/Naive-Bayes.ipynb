{
 "cells": [
  {
   "cell_type": "code",
   "execution_count": 1,
   "id": "30c7cbec-5e36-460f-bed4-082727c4ecf2",
   "metadata": {},
   "outputs": [],
   "source": [
    "import pandas as pd\n",
    "import numpy as np"
   ]
  },
  {
   "cell_type": "markdown",
   "id": "93771a8e-a823-421d-928c-ea19bf27cbe3",
   "metadata": {},
   "source": [
    "* assume that the features are independent"
   ]
  },
  {
   "cell_type": "markdown",
   "id": "68f5c5d4-a7b9-4273-a79d-62459a21df09",
   "metadata": {},
   "source": [
    "* apply log becouse the values can be to slow"
   ]
  },
  {
   "cell_type": "code",
   "execution_count": 92,
   "id": "a9cce143-cce9-4995-8a87-e9942115c82e",
   "metadata": {},
   "outputs": [],
   "source": [
    "class NaiveBayes:\n",
    "    \n",
    "    def fit(self,X,y):\n",
    "        n_samples,n_features=X.shape\n",
    "        self._classes=np.unique(y)\n",
    "        n_classes=len(self._classes)\n",
    "\n",
    "        ## claculate the mean ,var ,prior for eache cclas\n",
    "        self._mean=np.zeros((n_classes,n_features),dtype=np.float64)\n",
    "        self._var=np.zeros((n_classes,n_features),dtype=np.float64)\n",
    "        self._priors=np.zeros(n_classes,dtype=np.float64)\n",
    "\n",
    "        for index,col in enumerate(self._classes):\n",
    "            X_col=X[y==col]\n",
    "            self._mean[index,:]=X_col.mean(axis=0)\n",
    "            self._var[index,:]=X_col.var(axis=0)\n",
    "            self._priors[index]=X_col.shape[0]/float(n_samples)\n",
    "    def predict(self,X):\n",
    "        y_pred=[self._predict(x) for x in X]\n",
    "        return np.array(y_pred)\n",
    "    def _predict(self,x):\n",
    "        posteriors=[]\n",
    "        for index,col in enumerate(self._classes):\n",
    "            prior=np.log(self._priors[index])\n",
    "            posterior = np.sum(np.log(self._pdf(index,x)))\n",
    "            posterior = posterior + prior\n",
    "            posteriors.append(posterior)\n",
    "        return self._classes[np.argmax(posteriors)]\n",
    "    def _pdf(self,class_index,x):\n",
    "        mean=self._mean[class_index]\n",
    "        var=self._var[class_index]\n",
    "        numerator=(np.sqrt(2* np.pi * var ))\n",
    "        in_power=(x-mean)**2/2*var\n",
    "        return (1/numerator) * np.exp(in_power*-1)"
   ]
  },
  {
   "cell_type": "code",
   "execution_count": 94,
   "id": "77ea8de1-5974-4eda-80c4-b8a20b08c924",
   "metadata": {},
   "outputs": [
    {
     "data": {
      "text/plain": [
       "20.085536923187668"
      ]
     },
     "execution_count": 94,
     "metadata": {},
     "output_type": "execute_result"
    }
   ],
   "source": [
    "np.exp(3)"
   ]
  },
  {
   "cell_type": "code",
   "execution_count": 96,
   "id": "0a4f8cd6-aee8-479d-a4a6-c2276221e99d",
   "metadata": {},
   "outputs": [],
   "source": [
    "## testing\n",
    "\n",
    "from sklearn.model_selection import train_test_split\n",
    "from sklearn import datasets"
   ]
  },
  {
   "cell_type": "code",
   "execution_count": 98,
   "id": "b86c176d-5170-46e3-8a64-aa4c92121826",
   "metadata": {},
   "outputs": [],
   "source": [
    "def accuracy(y_true,y_pred):\n",
    "    accuracy=np.sum(y_true== y_pred)/len(y_true)\n",
    "    return accuracy"
   ]
  },
  {
   "cell_type": "code",
   "execution_count": 100,
   "id": "6bd99927-9daa-40df-aa08-4a4fb51bd240",
   "metadata": {},
   "outputs": [],
   "source": [
    "X,y= datasets.make_classification(n_samples=1000,n_features=10\n",
    "                                 ,n_classes=2,random_state=123)\n",
    "X_trian ,X_test ,y_train ,y_test= train_test_split(X,y,test_size=0.2, random_state=123)"
   ]
  },
  {
   "cell_type": "code",
   "execution_count": 102,
   "id": "77f77d51-84bd-47ed-8e84-472e2a29e713",
   "metadata": {},
   "outputs": [
    {
     "data": {
      "text/plain": [
       "array([[-0.63950524, -0.23584751, -0.28840218, ..., -0.68415371,\n",
       "         1.18943464, -0.31669551],\n",
       "       [ 0.66938907,  0.58792246, -0.81990885, ..., -1.77640152,\n",
       "        -1.09832947, -0.76501501],\n",
       "       [ 0.72025002,  1.47831033, -1.28082896, ...,  1.68993071,\n",
       "        -1.83623101,  0.11659189],\n",
       "       ...,\n",
       "       [ 0.25580835,  0.82552227, -0.52106521, ...,  1.25136485,\n",
       "        -0.65704429, -1.06897562],\n",
       "       [-0.25784178,  0.74700984,  0.49867336, ..., -0.42663516,\n",
       "         2.36320034, -1.91958189],\n",
       "       [-0.44085998,  0.87432692,  0.34667373, ...,  0.18247735,\n",
       "         1.98240441, -0.57978104]])"
      ]
     },
     "execution_count": 102,
     "metadata": {},
     "output_type": "execute_result"
    }
   ],
   "source": [
    "X_trian"
   ]
  },
  {
   "cell_type": "code",
   "execution_count": 104,
   "id": "06f85567-5ddb-460e-ba02-12869f346c94",
   "metadata": {},
   "outputs": [],
   "source": [
    "nbClassifier=NaiveBayes()\n",
    "nbClassifier.fit(X_trian,y_train)\n",
    "\n",
    "predcts=nbClassifier.predict(X_test)"
   ]
  },
  {
   "cell_type": "code",
   "execution_count": 66,
   "id": "a316cd67-7edf-4e5a-9b6a-cb6a2622b80a",
   "metadata": {},
   "outputs": [],
   "source": [
    "import numpy as np\n",
    "\n",
    "class NaiveBayes:\n",
    "    \n",
    "    def fit(self, X, y):\n",
    "        n_samples, n_features = X.shape\n",
    "        self._classes = np.unique(y)\n",
    "        n_classes = len(self._classes)\n",
    "\n",
    "        # Initialize mean, var, prior\n",
    "        self._mean = np.zeros((n_classes, n_features), dtype=np.float64)\n",
    "        self._var = np.zeros((n_classes, n_features), dtype=np.float64)\n",
    "        self._priors = np.zeros(n_classes, dtype=np.float64)\n",
    "\n",
    "        for index, col in enumerate(self._classes):\n",
    "            X_col = X[y == col]\n",
    "            self._mean[index, :] = X_col.mean(axis=0)\n",
    "            self._var[index, :] = X_col.var(axis=0)\n",
    "            self._priors[index] = X_col.shape[0] / float(n_samples)\n",
    "\n",
    "    def predict(self, X):\n",
    "        y_pred = [self._predict(x) for x in X]\n",
    "        return np.array(y_pred)\n",
    "\n",
    "    def _predict(self, x):\n",
    "        posteriors = []\n",
    "        for index, col in enumerate(self._classes):\n",
    "            prior = np.log(self._priors[index])\n",
    "            posterior = np.sum(np.log(self._pdf(index, x)))\n",
    "            posterior = posterior + prior\n",
    "            posteriors.append(posterior)\n",
    "        return self._classes[np.argmax(posteriors)]\n",
    "\n",
    "    def _pdf(self, class_index, x):\n",
    "        mean = self._mean[class_index]\n",
    "        var = self._var[class_index] + 1e-9  # Numerical stability\n",
    "        numerator = np.sqrt(2 * np.pi * var)\n",
    "        in_power = (x - mean)**2 / (2 * var)\n",
    "        return (1 / numerator) * np.exp(-in_power)\n"
   ]
  },
  {
   "cell_type": "code",
   "execution_count": 106,
   "id": "24bf4fe4-450c-46e0-822a-ed9107e6b0a3",
   "metadata": {},
   "outputs": [
    {
     "data": {
      "text/plain": [
       "array([0, 0, 0, 0, 0, 0, 0, 1, 0, 0, 1, 0, 0, 0, 0, 0, 0, 0, 0, 0, 0, 1,\n",
       "       1, 0, 0, 0, 0, 1, 0, 0, 1, 0, 0, 0, 0, 0, 0, 0, 0, 0, 0, 0, 0, 1,\n",
       "       0, 0, 0, 0, 0, 1, 0, 0, 0, 0, 0, 0, 0, 0, 0, 0, 0, 1, 1, 0, 1, 0,\n",
       "       0, 0, 0, 0, 0, 0, 0, 0, 0, 0, 0, 0, 0, 0, 0, 0, 0, 0, 0, 0, 0, 0,\n",
       "       0, 0, 0, 0, 0, 0, 0, 0, 0, 0, 0, 0, 0, 0, 0, 1, 0, 0, 0, 0, 0, 0,\n",
       "       0, 0, 0, 1, 0, 0, 0, 0, 0, 0, 0, 1, 0, 0, 0, 0, 1, 0, 0, 0, 0, 0,\n",
       "       0, 0, 0, 0, 0, 0, 0, 0, 0, 1, 0, 0, 0, 0, 0, 0, 1, 0, 0, 0, 0, 0,\n",
       "       0, 0, 0, 0, 0, 0, 0, 0, 0, 0, 0, 0, 1, 0, 0, 0, 0, 0, 0, 0, 0, 1,\n",
       "       0, 0, 0, 0, 1, 0, 1, 0, 0, 0, 1, 0, 0, 0, 0, 0, 1, 0, 0, 0, 0, 0,\n",
       "       1, 0])"
      ]
     },
     "execution_count": 106,
     "metadata": {},
     "output_type": "execute_result"
    }
   ],
   "source": [
    "predcts"
   ]
  },
  {
   "cell_type": "code",
   "execution_count": 108,
   "id": "ffde72fe-0709-478e-b16e-d14b2865e1d4",
   "metadata": {},
   "outputs": [
    {
     "data": {
      "text/plain": [
       "0.615"
      ]
     },
     "execution_count": 108,
     "metadata": {},
     "output_type": "execute_result"
    }
   ],
   "source": [
    "accuracy(y_test,predcts)"
   ]
  },
  {
   "cell_type": "code",
   "execution_count": null,
   "id": "cad177c1-96ae-458a-8b82-18a266226794",
   "metadata": {},
   "outputs": [],
   "source": []
  }
 ],
 "metadata": {
  "kernelspec": {
   "display_name": "Python 3 (ipykernel)",
   "language": "python",
   "name": "python3"
  },
  "language_info": {
   "codemirror_mode": {
    "name": "ipython",
    "version": 3
   },
   "file_extension": ".py",
   "mimetype": "text/x-python",
   "name": "python",
   "nbconvert_exporter": "python",
   "pygments_lexer": "ipython3",
   "version": "3.12.4"
  }
 },
 "nbformat": 4,
 "nbformat_minor": 5
}
